{
  "nbformat": 4,
  "nbformat_minor": 0,
  "metadata": {
    "colab": {
      "name": "DesafioCyberlabVC.ipynb",
      "provenance": [],
      "collapsed_sections": [],
      "include_colab_link": true
    },
    "kernelspec": {
      "name": "python3",
      "display_name": "Python 3"
    }
  },
  "cells": [
    {
      "cell_type": "markdown",
      "metadata": {
        "id": "view-in-github",
        "colab_type": "text"
      },
      "source": [
        "<a href=\"https://colab.research.google.com/github/RoxySJ/Desafio-cyberlabs-VC/blob/main/DesafioCyberlabVC.ipynb\" target=\"_parent\"><img src=\"https://colab.research.google.com/assets/colab-badge.svg\" alt=\"Open In Colab\"/></a>"
      ]
    },
    {
      "cell_type": "code",
      "metadata": {
        "id": "2xInrM5bTL97"
      },
      "source": [
        "import torch\n",
        "import torch.nn as nn\n",
        "import torch.optim as optim\n",
        "import torch.nn.functional as F\n",
        "\n",
        "import torchvision\n",
        "import torchvision.transforms as transforms\n",
        "\n",
        "import numpy as np\n",
        "import pandas as pd\n",
        "import matplotlib.pyplot as plt\n",
        "\n",
        "from sklearn.metrics import confusion_matrix\n",
        "#from resources.plotcm import plot_confusion_matrix\n",
        "#from plotcm import plot_confusion_matrix\n",
        "\n",
        "import pdb\n",
        "\n",
        "torch.set_printoptions(linewidth=120)"
      ],
      "execution_count": 158,
      "outputs": []
    },
    {
      "cell_type": "code",
      "metadata": {
        "id": "vzuZqe41uIwr"
      },
      "source": [
        "#Baixando dataset de treino da MNIST e transformando-o em um tensor\n",
        "train_set = torchvision.datasets.MNIST(root='./data', train = True, download = True, transform = transforms.ToTensor())\n",
        "# Selecionando apenas as classes 0 e 5\n",
        "idx = (train_set.targets==0) | (train_set.targets==5) \n",
        "train_set.targets = train_set.targets[idx]\n",
        "train_set.data = train_set.data[idx]"
      ],
      "execution_count": 159,
      "outputs": []
    },
    {
      "cell_type": "code",
      "metadata": {
        "id": "0nVgOmndy01v",
        "colab": {
          "base_uri": "https://localhost:8080/"
        },
        "outputId": "0ea6cd27-b8b5-4e88-9f9c-2b19d555e3a8"
      },
      "source": [
        "#tamanho do dataset de treino\n",
        "len(train_set)"
      ],
      "execution_count": 160,
      "outputs": [
        {
          "output_type": "execute_result",
          "data": {
            "text/plain": [
              "11344"
            ]
          },
          "metadata": {},
          "execution_count": 160
        }
      ]
    },
    {
      "cell_type": "code",
      "metadata": {
        "id": "EAB51Fzagf88",
        "colab": {
          "base_uri": "https://localhost:8080/"
        },
        "outputId": "215bfdbf-a25d-40a2-a0f3-137f8847abff"
      },
      "source": [
        "# Mostrando os rótulos \n",
        "train_set.targets"
      ],
      "execution_count": 162,
      "outputs": [
        {
          "output_type": "execute_result",
          "data": {
            "text/plain": [
              "tensor([5, 0, 5,  ..., 0, 5, 5])"
            ]
          },
          "metadata": {},
          "execution_count": 162
        }
      ]
    },
    {
      "cell_type": "code",
      "metadata": {
        "id": "UFgB9jXDU5Ef"
      },
      "source": [
        "# Arquitetura da rede\n",
        "class Network(nn.Module):\n",
        "    def __init__(self):\n",
        "        super().__init__()\n",
        "        self.conv1 = nn.Conv2d(in_channels=1, out_channels=8, kernel_size=3)\n",
        "        self.conv2 = nn.Conv2d(in_channels=8, out_channels=16, kernel_size=3)\n",
        "        self.conv3 = nn.Conv2d(in_channels=16, out_channels=32, kernel_size=3)\n",
        "        \n",
        "        self.fc1 = nn.Linear(in_features= 32*3*3, out_features=96)\n",
        "        self.out = nn.Linear(in_features=96, out_features=2)\n",
        "\n",
        "# Forward pass\n",
        "    def forward(self, t):\n",
        "        # (1) input layer\n",
        "        t = t\n",
        "        # (2) hidden conv layer\n",
        "        t = self.conv1(t)\n",
        "        t = F.relu(t)\n",
        "        t = F.max_pool2d(t, kernel_size=2, stride=2)\n",
        "\n",
        "        # (3) hidden conv layer\n",
        "        t = self.conv2(t)\n",
        "        t = F.relu(t)\n",
        "        t = F.max_pool2d(t, kernel_size=2, stride=2)\n",
        "        # (4) hidden conv layer\n",
        "        t = self.conv3(t)\n",
        "        #print(t.size())\n",
        "        t = F.relu(t)\n",
        "        \n",
        "        # (5) hidden linear layer\n",
        "        t = t.reshape(-1, 32 * 3 * 3)\n",
        "        t = self.fc1(t)\n",
        "       \n",
        "        # (6) output layer\n",
        "        t = self.out(t)\n",
        "       # print(t.size())\n",
        "        #t = F.softmax(t, dim=1)\n",
        "        return t;"
      ],
      "execution_count": 163,
      "outputs": []
    },
    {
      "cell_type": "code",
      "metadata": {
        "id": "pggj8uoJBqbf",
        "colab": {
          "base_uri": "https://localhost:8080/"
        },
        "outputId": "e709f8c9-c162-4f40-fa51-2200d69975f0"
      },
      "source": [
        "#exibindo uma rede\n",
        "networkTeste = Network()   \n",
        "print(networkTeste)"
      ],
      "execution_count": 164,
      "outputs": [
        {
          "output_type": "stream",
          "name": "stdout",
          "text": [
            "Network(\n",
            "  (conv1): Conv2d(1, 8, kernel_size=(3, 3), stride=(1, 1))\n",
            "  (conv2): Conv2d(8, 16, kernel_size=(3, 3), stride=(1, 1))\n",
            "  (conv3): Conv2d(16, 32, kernel_size=(3, 3), stride=(1, 1))\n",
            "  (fc1): Linear(in_features=288, out_features=96, bias=True)\n",
            "  (out): Linear(in_features=96, out_features=2, bias=True)\n",
            ")\n"
          ]
        }
      ]
    },
    {
      "cell_type": "code",
      "metadata": {
        "id": "Qce1MLOOVRzr"
      },
      "source": [
        "#função que retorna o número de predições corretas\n",
        "def get_num_correct(preds, labels):\n",
        "    return preds.argmax(dim=1).eq(labels).sum().item()"
      ],
      "execution_count": 165,
      "outputs": []
    },
    {
      "cell_type": "code",
      "metadata": {
        "id": "JoW1tmnnjN4U"
      },
      "source": [
        "#criando uma rede para o treinamento\n",
        "network = Network()\n",
        "optimizer = optim.Adam(network.parameters(), lr=0.001)\n",
        "train_loader = torch.utils.data.DataLoader(\n",
        "    train_set\n",
        "    ,batch_size=16\n",
        "    ,shuffle=True\n",
        ")"
      ],
      "execution_count": 166,
      "outputs": []
    },
    {
      "cell_type": "code",
      "metadata": {
        "id": "S_4nAsEPjRWB",
        "colab": {
          "base_uri": "https://localhost:8080/"
        },
        "outputId": "9b1b1dc1-4491-4b73-dea5-75ceed4c81de"
      },
      "source": [
        "#treinamento\n",
        "for epoch in range(20):\n",
        "\n",
        "    total_loss = 0\n",
        "    total_correct = 0\n",
        "\n",
        "    for batch in train_loader: # para cada batch\n",
        "        images, labels = batch \n",
        "        #Aqui eu só transformo os labels de 0 ou 5 para 0 ou 1, respectivamente, para que eles fiquem compatíveis com a função cross_entropy\n",
        "        labels = labels/5\n",
        "        labels = labels.long()\n",
        "        preds = network(images) # Passa o batch\n",
        "        loss = F.cross_entropy(preds, labels) # Calcula o erro\n",
        "\n",
        "\n",
        "        optimizer.zero_grad()\n",
        "        loss.backward() # Calculata os gradientes\n",
        "        optimizer.step() # Atualiza os pesos\n",
        "\n",
        "\n",
        "        total_loss += loss.item()\n",
        "        total_correct += get_num_correct(preds, labels)\n",
        "\n",
        "\n",
        "    print(\n",
        "        \"epoch\", epoch, \n",
        "        \"total_corretas:\", total_correct, \n",
        "        \"erro:\", total_loss\n",
        "    )"
      ],
      "execution_count": 167,
      "outputs": [
        {
          "output_type": "stream",
          "name": "stdout",
          "text": [
            "epoch 0 total_corretas: 11172 erro: 37.36629963485757\n",
            "epoch 1 total_corretas: 11303 erro: 7.183496933417246\n",
            "epoch 2 total_corretas: 11320 erro: 4.381826120311899\n",
            "epoch 3 total_corretas: 11333 erro: 2.5083382187293912\n",
            "epoch 4 total_corretas: 11334 erro: 1.4984110481430473\n",
            "epoch 5 total_corretas: 11327 erro: 3.0608135929264013\n",
            "epoch 6 total_corretas: 11335 erro: 1.6921921417868186\n",
            "epoch 7 total_corretas: 11330 erro: 2.608856463030947\n",
            "epoch 8 total_corretas: 11344 erro: 0.09191573612444781\n",
            "epoch 9 total_corretas: 11344 erro: 0.021027492011886473\n",
            "epoch 10 total_corretas: 11344 erro: 0.009270742666866116\n",
            "epoch 11 total_corretas: 11344 erro: 0.004809228591465153\n",
            "epoch 12 total_corretas: 11344 erro: 0.002678191358559623\n",
            "epoch 13 total_corretas: 11344 erro: 0.0016660264044885409\n",
            "epoch 14 total_corretas: 11344 erro: 0.0011074970447229049\n",
            "epoch 15 total_corretas: 11344 erro: 0.0007338614120384612\n",
            "epoch 16 total_corretas: 11344 erro: 0.00048444570503880513\n",
            "epoch 17 total_corretas: 11344 erro: 0.00032606374701193985\n",
            "epoch 18 total_corretas: 11344 erro: 0.0002140367561036527\n",
            "epoch 19 total_corretas: 11344 erro: 0.00014924392937176734\n"
          ]
        }
      ]
    },
    {
      "cell_type": "code",
      "metadata": {
        "id": "zbVTrKSXQPiP"
      },
      "source": [
        "#Baixando dataset de teste da MNIST e transformando-o em um tensor\n",
        "test_set = torchvision.datasets.MNIST(root='./data', train = False, download = True, transform = transforms.ToTensor())\n",
        "# Selecionando apenas as classes 0 e 5\n",
        "idx = (test_set.targets==0) | (test_set.targets==5) \n",
        "test_set.targets = test_set.targets[idx]\n",
        "test_set.data = test_set.data[idx]"
      ],
      "execution_count": 168,
      "outputs": []
    },
    {
      "cell_type": "code",
      "metadata": {
        "id": "NgB2t8Ei2wU1",
        "colab": {
          "base_uri": "https://localhost:8080/"
        },
        "outputId": "9d2bf87b-af84-4a3d-a217-d6da794fb9ec"
      },
      "source": [
        "#tamanho do dataset de teste\n",
        "len(test_set)"
      ],
      "execution_count": 169,
      "outputs": [
        {
          "output_type": "execute_result",
          "data": {
            "text/plain": [
              "1872"
            ]
          },
          "metadata": {},
          "execution_count": 169
        }
      ]
    },
    {
      "cell_type": "code",
      "metadata": {
        "id": "a09OxialX07g",
        "colab": {
          "base_uri": "https://localhost:8080/"
        },
        "outputId": "2a3a77d8-b88e-49f9-a055-4682141ff635"
      },
      "source": [
        "#pegando uma imagem do meu dataset de teste\n",
        "sample = next(iter(test_set)) \n",
        "image, label = sample \n",
        "image.shape\n",
        "\n"
      ],
      "execution_count": 170,
      "outputs": [
        {
          "output_type": "execute_result",
          "data": {
            "text/plain": [
              "torch.Size([1, 28, 28])"
            ]
          },
          "metadata": {},
          "execution_count": 170
        }
      ]
    },
    {
      "cell_type": "code",
      "metadata": {
        "id": "aEXgyu-caiV0",
        "colab": {
          "base_uri": "https://localhost:8080/",
          "height": 283
        },
        "outputId": "2f7c2cb2-5f69-4764-8acc-c0b91bd04959"
      },
      "source": [
        "#mostrando imagem e label real dela \n",
        "image = sample[0]\n",
        "label = sample[1]\n",
        "plt.imshow(image.squeeze(), cmap=\"gray\")\n",
        "torch.tensor(label)"
      ],
      "execution_count": 171,
      "outputs": [
        {
          "output_type": "execute_result",
          "data": {
            "text/plain": [
              "tensor(0)"
            ]
          },
          "metadata": {},
          "execution_count": 171
        },
        {
          "output_type": "display_data",
          "data": {
            "image/png": "[encoded data removed]",
            "text/plain": [
              "<Figure size 432x288 with 1 Axes>"
            ]
          },
          "metadata": {
            "needs_background": "light"
          }
        }
      ]
    },
    {
      "cell_type": "code",
      "metadata": {
        "id": "8c2xegbZkwjd"
      },
      "source": [
        "#gerando a previsão da rede para essa imagem\n",
        "pred = network(image.unsqueeze(0)) # image shape needs to be (batch_size × in_channels × H × W)"
      ],
      "execution_count": 172,
      "outputs": []
    },
    {
      "cell_type": "code",
      "metadata": {
        "id": "r83kFEMsk1Gr",
        "colab": {
          "base_uri": "https://localhost:8080/"
        },
        "outputId": "9bcaab6b-b3ad-45fd-9a3b-72630ee430a0"
      },
      "source": [
        "#previsão da rede para cada classe\n",
        "pred"
      ],
      "execution_count": 173,
      "outputs": [
        {
          "output_type": "execute_result",
          "data": {
            "text/plain": [
              "tensor([[ 22.5723, -20.5370]], grad_fn=<AddmmBackward>)"
            ]
          },
          "metadata": {},
          "execution_count": 173
        }
      ]
    },
    {
      "cell_type": "code",
      "metadata": {
        "id": "RRUimqdLlKrt",
        "colab": {
          "base_uri": "https://localhost:8080/"
        },
        "outputId": "5347a69c-bc58-40dc-de1a-2e656c119009"
      },
      "source": [
        "#previsão de label feita pela rede\n",
        "pred.argmax(dim=1)"
      ],
      "execution_count": 174,
      "outputs": [
        {
          "output_type": "execute_result",
          "data": {
            "text/plain": [
              "tensor([0])"
            ]
          },
          "metadata": {},
          "execution_count": 174
        }
      ]
    },
    {
      "cell_type": "code",
      "metadata": {
        "id": "pOdxZNxMZRvy",
        "colab": {
          "base_uri": "https://localhost:8080/"
        },
        "outputId": "92043a2c-b9ba-4e42-9aba-2e5bb05aa0e3"
      },
      "source": [
        "#previsão em probabilidade de cada classe\n",
        "F.softmax(pred, dim=1)"
      ],
      "execution_count": 175,
      "outputs": [
        {
          "output_type": "execute_result",
          "data": {
            "text/plain": [
              "tensor([[1.0000e+00, 1.8962e-19]], grad_fn=<SoftmaxBackward>)"
            ]
          },
          "metadata": {},
          "execution_count": 175
        }
      ]
    },
    {
      "cell_type": "code",
      "metadata": {
        "id": "CPu-b9mxZgUT",
        "colab": {
          "base_uri": "https://localhost:8080/"
        },
        "outputId": "be2f6c7b-0e6a-4e83-c34e-4be3220bf47b"
      },
      "source": [
        "#verificando se a soma de probabilidades dá 1\n",
        "F.softmax(pred, dim=1).sum()"
      ],
      "execution_count": 176,
      "outputs": [
        {
          "output_type": "execute_result",
          "data": {
            "text/plain": [
              "tensor(1., grad_fn=<SumBackward0>)"
            ]
          },
          "metadata": {},
          "execution_count": 176
        }
      ]
    },
    {
      "cell_type": "code",
      "metadata": {
        "id": "lYSQYNxDnrF6"
      },
      "source": [
        "#função que calcula previsões para todo o dataset de teste\n",
        "\n",
        "@torch.no_grad()\n",
        "def get_all_preds(model, loader):\n",
        "    all_preds = torch.tensor([])\n",
        "    for batch in loader:\n",
        "        images, labels = batch\n",
        "\n",
        "        preds = model(images)\n",
        "        all_preds = torch.cat(\n",
        "            (all_preds, preds)\n",
        "            ,dim=0\n",
        "        )\n",
        "    return all_preds"
      ],
      "execution_count": 177,
      "outputs": []
    },
    {
      "cell_type": "code",
      "metadata": {
        "id": "_yEH2LNTrsYx"
      },
      "source": [
        " #criando um tensor com todas as previsões\n",
        " prediction_loader = torch.utils.data.DataLoader(test_set, batch_size=100)\n",
        " test_preds = get_all_preds(network, prediction_loader)"
      ],
      "execution_count": 178,
      "outputs": []
    },
    {
      "cell_type": "code",
      "metadata": {
        "colab": {
          "base_uri": "https://localhost:8080/"
        },
        "id": "thAO5DIgY-bF",
        "outputId": "4de96380-2a1f-43bb-877a-0b54655082b2"
      },
      "source": [
        "# Aqui eu só transformo os labels de 0 ou 5 para 0 ou 1, respectivamente, para que eles fiquem compatíveis com os labels preditos\n",
        "test_set.targets = test_set.targets/5\n",
        "test_set.targets = test_set.targets.long()\n",
        "test_set.targets"
      ],
      "execution_count": 179,
      "outputs": [
        {
          "output_type": "execute_result",
          "data": {
            "text/plain": [
              "tensor([0, 1, 0,  ..., 1, 0, 1])"
            ]
          },
          "metadata": {},
          "execution_count": 179
        }
      ]
    },
    {
      "cell_type": "code",
      "metadata": {
        "id": "n7pGidBZn--6",
        "colab": {
          "base_uri": "https://localhost:8080/"
        },
        "outputId": "21249f41-5948-4664-a216-4d945b6f51cf"
      },
      "source": [
        "#calculando o número de previsões corretas\n",
        "preds_correct = get_num_correct(test_preds, test_set.targets)\n",
        "print('total corretas:', preds_correct)\n",
        "print('acuracia:', preds_correct / len(test_set))"
      ],
      "execution_count": 180,
      "outputs": [
        {
          "output_type": "stream",
          "name": "stdout",
          "text": [
            "total corretas: 1869\n",
            "acuracia: 0.9983974358974359\n"
          ]
        }
      ]
    },
    {
      "cell_type": "code",
      "metadata": {
        "id": "nMP1QFlVptBA"
      },
      "source": [
        "#função que plota a matriz\n",
        "#o import não estava funcionando\n",
        "import itertools\n",
        "import numpy as np\n",
        "import matplotlib.pyplot as plt\n",
        "\n",
        "def plot_confusion_matrix(cm, classes, normalize=False, title='Confusion matrix', cmap=plt.cm.Blues):\n",
        "    if normalize:\n",
        "        cm = cm.astype('float') / cm.sum(axis=1)[:, np.newaxis]\n",
        "        print(\"Normalized confusion matrix\")\n",
        "    else:\n",
        "        print('Confusion matrix, without normalization')\n",
        "\n",
        "    print(cm)\n",
        "    plt.imshow(cm, interpolation='nearest', cmap=cmap)\n",
        "    plt.title(title)\n",
        "    plt.colorbar()\n",
        "    tick_marks = np.arange(len(classes))\n",
        "    plt.xticks(tick_marks, classes, rotation=45)\n",
        "    plt.yticks(tick_marks, classes)\n",
        "\n",
        "    fmt = '.2f' if normalize else 'd'\n",
        "    thresh = cm.max() / 2.\n",
        "    for i, j in itertools.product(range(cm.shape[0]), range(cm.shape[1])):\n",
        "        plt.text(j, i, format(cm[i, j], fmt), horizontalalignment=\"center\", color=\"white\" if cm[i, j] > thresh else \"black\")\n",
        "\n",
        "    plt.tight_layout()\n",
        "    plt.ylabel('True label')\n",
        "    plt.xlabel('Predicted label')"
      ],
      "execution_count": 181,
      "outputs": []
    },
    {
      "cell_type": "code",
      "metadata": {
        "id": "XUjSIREcozzR"
      },
      "source": [
        "#gerando matriz de confusão\n",
        "cm = confusion_matrix(test_set.targets, test_preds.argmax(dim=1))"
      ],
      "execution_count": 182,
      "outputs": []
    },
    {
      "cell_type": "code",
      "metadata": {
        "id": "NyOhNcV-pLrv",
        "colab": {
          "base_uri": "https://localhost:8080/",
          "height": 781
        },
        "outputId": "d7fbdea5-fdb6-446f-be6c-b2fb092c7957"
      },
      "source": [
        "#plotando matriz de confusão\n",
        "plt.figure(figsize=(10,10))\n",
        "plot_confusion_matrix(cm, ['0 - zero','5 - cinco'])"
      ],
      "execution_count": 183,
      "outputs": [
        {
          "output_type": "stream",
          "name": "stdout",
          "text": [
            "Confusion matrix, without normalization\n",
            "[[979   1]\n",
            " [  2 890]]\n"
          ]
        },
        {
          "output_type": "display_data",
          "data": {
            "image/png": "[encoded data removed]",
            "text/plain": [
              "<Figure size 720x720 with 2 Axes>"
            ]
          },
          "metadata": {
            "needs_background": "light"
          }
        }
      ]
    }
  ]
}